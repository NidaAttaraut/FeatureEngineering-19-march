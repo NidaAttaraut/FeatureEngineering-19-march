{
 "cells": [
  {
   "cell_type": "markdown",
   "id": "bdb683ce-e4ed-47c4-b086-367c1ad72cdf",
   "metadata": {
    "jp-MarkdownHeadingCollapsed": true,
    "tags": []
   },
   "source": [
    "### Q1. What is Min-Max scaling, and how is it used in data preprocessing? Provide an example to illustrate its application.\n",
    "Min-Max scaling, also known as normalization, is a data preprocessing technique used to transform numeric features to a specific range, typically between 0 and 1. It preserves the relative relationships between the data points and makes them comparable across different scales. The formula for Min-Max scaling is:\n",
    "\n",
    "scaled_value = (value - min_value) / (max_value - min_value)\n",
    "\n",
    "For example, let's consider a dataset of house prices with values ranging from $100,000 to $1,000,000. Applying Min-Max scaling would transform the values to a range between 0 and 1, where the minimum value becomes 0, the maximum value becomes 1, and other values are scaled proportionally.\n",
    "\n",
    "### Q2.What is the Unit Vector technique in feature scaling, and how does it differ from Min-Max scaling? Provide an example to illustrate its application. \n",
    "The Unit Vector technique in feature scaling, also known as normalization, rescales features to have unit norm. It focuses on the direction of the data points rather than their magnitude. The formula for Unit Vector scaling is:\n",
    "\n",
    "scaled_value = value / norm\n",
    "\n",
    "where norm represents the Euclidean norm or L2 norm of the feature vector. It ensures that the length of the feature vector becomes 1.\n",
    "\n",
    "For example, let's consider a dataset of text documents represented as TF-IDF vectors. Applying Unit Vector scaling would normalize each document's vector by dividing it by its Euclidean norm. This ensures that the document vectors have unit length and are comparable based on their directions.\n",
    "\n",
    "### Q3.What is PCA (Principle Component Analysis), and how is it used in dimensionality reduction? Provide an example to illustrate its application.\n",
    "PCA (Principal Component Analysis) is a dimensionality reduction technique used to transform high-dimensional data into a lower-dimensional space while preserving the most important information. It identifies the principal components, which are linear combinations of the original features that capture the maximum variance in the data. PCA reduces dimensionality by projecting the data onto these principal components.\n",
    "\n",
    "For example, consider a dataset with many correlated features. PCA can be applied to identify a new set of uncorrelated features called principal components. These components are ranked based on the amount of variance they explain, and you can choose to keep a subset of the principal components that retain most of the variance.\n",
    "\n",
    "### Q4.What is the relationship between PCA and Feature Extraction, and how can PCA be used for Feature Extraction? Provide an example to illustrate this concept.\n",
    "PCA can be used for feature extraction by selecting a subset of the principal components as new features. Instead of using all the original features, you can use a reduced set of principal components that capture most of the variance in the data. This can help simplify the model and improve computational efficiency while retaining the most important information.\n",
    "\n",
    "For example, consider a dataset with 100 features. Applying PCA may result in 20 principal components, which explain 95% of the variance. Instead of using the original 100 features, you can replace them with these 20 principal components as new features.\n",
    "\n",
    "### Q5. You are working on a project to build a recommendation system for a food delivery service. The dataset contains features such as price, rating, and delivery time. Explain how you would use Min-Max scaling to preprocess the data.\n",
    "In the recommendation system project for a food delivery service, Min-Max scaling can be used to preprocess the data. Each numerical feature like price, rating, and delivery time can be individually scaled using Min-Max scaling to bring them to a common range, such as 0 to 1. This ensures that no single feature dominates the others due to differences in their scales, allowing fair comparison and more effective modeling.\n",
    "\n",
    "### Q6. You are working on a project to build a model to predict stock prices. The dataset contains many features, such as company financial data and market trends. Explain how you would use PCA to reduce the dimensionality of the dataset.\n",
    "In the stock price prediction project, PCA can be used to reduce the dimensionality of the dataset. The large number of features, such as company financial data and market trends, can be transformed into a smaller set of uncorrelated features called principal components. By applying PCA, you can select a reduced number of principal components that explain a significant amount of the variance in the dataset, simplifying the model and potentially improving its performance.\n",
    "\n",
    "### Q7.  For a dataset containing the following values: [1, 5, 10, 15, 20], perform Min-Max scaling to transform thevalues to a range of -1 to 1.\n",
    "To perform Min-Max scaling on the dataset [1, 5, 10, 15, 20] and transform the values to a range of -1 to 1, the steps are as follows:\n",
    "\n",
    "- Find the minimum value (min_value) and maximum value\n",
    "\n",
    " (max_value) in the dataset: min_value = 1, max_value = 20.\n",
    "- Apply the Min-Max scaling formula to each value:\n",
    "  - For 1: scaled_value = (1 - 1) / (20 - 1) = 0\n",
    "  - For 5: scaled_value = (5 - 1) / (20 - 1) ≈ 0.2353\n",
    "  - For 10: scaled_value = (10 - 1) / (20 - 1) ≈ 0.5294\n",
    "  - For 15: scaled_value = (15 - 1) / (20 - 1) ≈ 0.8235\n",
    "  - For 20: scaled_value = (20 - 1) / (20 - 1) = 1\n",
    "- The scaled values are: [0, 0.2353, 0.5294, 0.8235, 1].\n",
    "- To transform the values to the range of -1 to 1, multiply each scaled value by 2 and subtract 1:\n",
    "  - For 0: transformed_value = 2 * 0 - 1 = -1\n",
    "  - For 0.2353: transformed_value = 2 * 0.2353 - 1 ≈ -0.5294\n",
    "  - For 0.5294: transformed_value = 2 * 0.5294 - 1 ≈ 0.0588\n",
    "  - For 0.8235: transformed_value = 2 * 0.8235 - 1 ≈ 0.6471\n",
    "  - For 1: transformed_value = 2 * 1 - 1 = 1\n",
    "- The transformed values in the range of -1 to 1 are: [-1, -0.5294, 0.0588, 0.6471, 1].\n",
    "\n",
    "### Q8.For a dataset containing the following features: [height, weight, age, gender, blood pressure], perform Feature Extraction using PCA. How many principal components would you choose to retain, and why?\n",
    "To perform feature extraction using PCA on a dataset with features [height, weight, age, gender, blood pressure], the number of principal components to retain depends on the desired level of dimensionality reduction and the explained variance. You can follow these steps:\n",
    "\n",
    "- Standardize the dataset by subtracting the mean and dividing by the standard deviation of each feature.\n",
    "- Apply PCA to the standardized dataset and compute the explained variance ratio for each principal component.\n",
    "- Sort the principal components based on the explained variance ratio in descending order.\n",
    "- Choose the number of principal components that capture a sufficient amount of variance. This can be determined by setting a threshold, such as retaining components that explain at least 95% of the total variance.\n",
    "- The chosen number of principal components determines the dimensionality of the extracted features."
   ]
  },
  {
   "cell_type": "code",
   "execution_count": null,
   "id": "b46759ee-7e45-4d23-b9bb-a7208ed62710",
   "metadata": {},
   "outputs": [],
   "source": []
  }
 ],
 "metadata": {
  "kernelspec": {
   "display_name": "Python 3 (ipykernel)",
   "language": "python",
   "name": "python3"
  },
  "language_info": {
   "codemirror_mode": {
    "name": "ipython",
    "version": 3
   },
   "file_extension": ".py",
   "mimetype": "text/x-python",
   "name": "python",
   "nbconvert_exporter": "python",
   "pygments_lexer": "ipython3",
   "version": "3.10.8"
  }
 },
 "nbformat": 4,
 "nbformat_minor": 5
}
